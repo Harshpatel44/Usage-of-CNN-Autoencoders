{
  "nbformat": 4,
  "nbformat_minor": 0,
  "metadata": {
    "colab": {
      "name": "Assignment4.ipynb",
      "provenance": [],
      "collapsed_sections": [],
      "machine_shape": "hm",
      "authorship_tag": "ABX9TyPkwRTILbOsX2BYjVegulza",
      "include_colab_link": true
    },
    "kernelspec": {
      "name": "python3",
      "display_name": "Python 3"
    },
    "accelerator": "GPU"
  },
  "cells": [
    {
      "cell_type": "markdown",
      "metadata": {
        "id": "view-in-github",
        "colab_type": "text"
      },
      "source": [
        "<a href=\"https://colab.research.google.com/github/Harshpatel44/ML-A4/blob/master/Assignment4.ipynb\" target=\"_parent\"><img src=\"https://colab.research.google.com/assets/colab-badge.svg\" alt=\"Open In Colab\"/></a>"
      ]
    },
    {
      "cell_type": "markdown",
      "metadata": {
        "id": "iTT1qBzipD6N",
        "colab_type": "text"
      },
      "source": [
        "`#author: Harsh Patel`"
      ]
    },
    {
      "cell_type": "code",
      "metadata": {
        "id": "GpQIt2L4SxAw",
        "colab_type": "code",
        "colab": {}
      },
      "source": [
        "import numpy as np\n",
        "import pandas as pd\n",
        "from sklearn import datasets\n",
        "from sklearn.preprocessing import StandardScaler\n",
        "from sklearn import decomposition\n",
        "from matplotlib import pyplot as plt\n",
        "from matplotlib.pyplot import figure\n",
        "import torch\n",
        "import torch.nn as nn\n",
        "import torch.optim as optim\n",
        "import torch.nn.functional as Func "
      ],
      "execution_count": 0,
      "outputs": []
    },
    {
      "cell_type": "code",
      "metadata": {
        "id": "x4cxyCDsBC8T",
        "colab_type": "code",
        "colab": {
          "base_uri": "https://localhost:8080/",
          "height": 35
        },
        "outputId": "fb9636ab-8e1e-4b26-b546-5d1bfc67c6fa"
      },
      "source": [
        "device = torch.device(\"cuda\" if torch.cuda.is_available() else \"cpu\")\n",
        "print(device)"
      ],
      "execution_count": 49,
      "outputs": [
        {
          "output_type": "stream",
          "text": [
            "cuda\n"
          ],
          "name": "stdout"
        }
      ]
    },
    {
      "cell_type": "code",
      "metadata": {
        "id": "YjA8YcxO4pRU",
        "colab_type": "code",
        "colab": {}
      },
      "source": [
        "iris = datasets.load_iris()"
      ],
      "execution_count": 0,
      "outputs": []
    },
    {
      "cell_type": "markdown",
      "metadata": {
        "id": "dCtUGdHnorlZ",
        "colab_type": "text"
      },
      "source": [
        "Displaying The IRIS Dataset"
      ]
    },
    {
      "cell_type": "code",
      "metadata": {
        "id": "g9Q5DKsNYQvl",
        "colab_type": "code",
        "outputId": "a52a08b6-d5ad-4669-c561-393a0c0d5c91",
        "colab": {
          "base_uri": "https://localhost:8080/",
          "height": 272
        }
      },
      "source": [
        "# converting the dataset to a numpy array\n",
        "data_iris = np.array(iris.data)\n",
        "output = np.array(iris.target)\n",
        "print(pd.DataFrame(data=data_iris,columns=['Sepal Length','Sepal Width','Petal Length','Petal Width']))"
      ],
      "execution_count": 4,
      "outputs": [
        {
          "output_type": "stream",
          "text": [
            "     Sepal Length  Sepal Width  Petal Length  Petal Width\n",
            "0             5.1          3.5           1.4          0.2\n",
            "1             4.9          3.0           1.4          0.2\n",
            "2             4.7          3.2           1.3          0.2\n",
            "3             4.6          3.1           1.5          0.2\n",
            "4             5.0          3.6           1.4          0.2\n",
            "..            ...          ...           ...          ...\n",
            "145           6.7          3.0           5.2          2.3\n",
            "146           6.3          2.5           5.0          1.9\n",
            "147           6.5          3.0           5.2          2.0\n",
            "148           6.2          3.4           5.4          2.3\n",
            "149           5.9          3.0           5.1          1.8\n",
            "\n",
            "[150 rows x 4 columns]\n"
          ],
          "name": "stdout"
        }
      ]
    },
    {
      "cell_type": "markdown",
      "metadata": {
        "id": "hhy0ZDTtpiZh",
        "colab_type": "text"
      },
      "source": [
        "Standardising the data"
      ]
    },
    {
      "cell_type": "code",
      "metadata": {
        "id": "QYNACZZIpcN4",
        "colab_type": "code",
        "outputId": "47833057-eea1-4fea-a725-9612967324a5",
        "colab": {
          "base_uri": "https://localhost:8080/",
          "height": 272
        }
      },
      "source": [
        "data_iris = StandardScaler().fit_transform(data_iris)\n",
        "print(pd.DataFrame(data=data_iris,columns=['Sepal Length','Sepal Width','Petal Length','Petal Width']))"
      ],
      "execution_count": 5,
      "outputs": [
        {
          "output_type": "stream",
          "text": [
            "     Sepal Length  Sepal Width  Petal Length  Petal Width\n",
            "0       -0.900681     1.019004     -1.340227    -1.315444\n",
            "1       -1.143017    -0.131979     -1.340227    -1.315444\n",
            "2       -1.385353     0.328414     -1.397064    -1.315444\n",
            "3       -1.506521     0.098217     -1.283389    -1.315444\n",
            "4       -1.021849     1.249201     -1.340227    -1.315444\n",
            "..            ...          ...           ...          ...\n",
            "145      1.038005    -0.131979      0.819596     1.448832\n",
            "146      0.553333    -1.282963      0.705921     0.922303\n",
            "147      0.795669    -0.131979      0.819596     1.053935\n",
            "148      0.432165     0.788808      0.933271     1.448832\n",
            "149      0.068662    -0.131979      0.762758     0.790671\n",
            "\n",
            "[150 rows x 4 columns]\n"
          ],
          "name": "stdout"
        }
      ]
    },
    {
      "cell_type": "markdown",
      "metadata": {
        "id": "WnRKtcFVopBl",
        "colab_type": "text"
      },
      "source": [
        "Using PCA to reduce features"
      ]
    },
    {
      "cell_type": "code",
      "metadata": {
        "id": "7Uo2D81fYeIy",
        "colab_type": "code",
        "outputId": "9c10ca33-319b-4c64-869f-ad107a612dc7",
        "colab": {
          "base_uri": "https://localhost:8080/",
          "height": 272
        }
      },
      "source": [
        "pca = decomposition.PCA(n_components=4)\n",
        "pca_iris=pca.fit_transform(data_iris)\n",
        "print(pd.DataFrame(data=pca_iris,columns=['PC1','PC2','PC3','PC4']))"
      ],
      "execution_count": 6,
      "outputs": [
        {
          "output_type": "stream",
          "text": [
            "          PC1       PC2       PC3       PC4\n",
            "0   -2.264703  0.480027 -0.127706 -0.024168\n",
            "1   -2.080961 -0.674134 -0.234609 -0.103007\n",
            "2   -2.364229 -0.341908  0.044201 -0.028377\n",
            "3   -2.299384 -0.597395  0.091290  0.065956\n",
            "4   -2.389842  0.646835  0.015738  0.035923\n",
            "..        ...       ...       ...       ...\n",
            "145  1.870503  0.386966  0.256274 -0.389257\n",
            "146  1.564580 -0.896687 -0.026371 -0.220192\n",
            "147  1.521170  0.269069  0.180178 -0.119171\n",
            "148  1.372788  1.011254  0.933395 -0.026129\n",
            "149  0.960656 -0.024332  0.528249  0.163078\n",
            "\n",
            "[150 rows x 4 columns]\n"
          ],
          "name": "stdout"
        }
      ]
    },
    {
      "cell_type": "markdown",
      "metadata": {
        "id": "EgpRIRD5sKM6",
        "colab_type": "text"
      },
      "source": [
        "Visualizing for first two PCA"
      ]
    },
    {
      "cell_type": "code",
      "metadata": {
        "id": "z7UFvvoAmsaY",
        "colab_type": "code",
        "outputId": "02df1eca-ab14-4d7d-e248-25d925a53d6c",
        "colab": {
          "base_uri": "https://localhost:8080/",
          "height": 483
        }
      },
      "source": [
        "plt.figure(figsize=(8,8))\n",
        "plt.scatter(pca_iris[:,0],pca_iris[:,1],c=output)\n",
        "ax = plt.gca()\n",
        "ax.set_facecolor('xkcd:salmon')\n",
        "ax.set_facecolor((0, 0, 0))\n",
        "plt.show()"
      ],
      "execution_count": 7,
      "outputs": [
        {
          "output_type": "display_data",
          "data": {
            "text/plain": [
              "<Figure size 576x576 with 1 Axes>"
            ],
            "image/png": "[encoded data removed]"
          },
          "metadata": {
            "tags": [],
            "needs_background": "light"
          }
        }
      ]
    },
    {
      "cell_type": "code",
      "metadata": {
        "id": "Xv0ZI9nMp1Vm",
        "colab_type": "code",
        "outputId": "749d6bf5-5a79-407c-8376-149a44a76d51",
        "colab": {
          "base_uri": "https://localhost:8080/",
          "height": 483
        }
      },
      "source": [
        "plt.figure(figsize=(8,8))\n",
        "plt.scatter(pca_iris[:,2],pca_iris[:,3],c=output)\n",
        "ax = plt.gca()\n",
        "ax.set_facecolor('xkcd:salmon')\n",
        "ax.set_facecolor((0, 0, 0))\n",
        "plt.show()"
      ],
      "execution_count": 8,
      "outputs": [
        {
          "output_type": "display_data",
          "data": {
            "text/plain": [
              "<Figure size 576x576 with 1 Axes>"
            ],
            "image/png": "[encoded data removed]"
          },
          "metadata": {
            "tags": [],
            "needs_background": "light"
          }
        }
      ]
    },
    {
      "cell_type": "markdown",
      "metadata": {
        "id": "ePKw9qbNHeLg",
        "colab_type": "text"
      },
      "source": [
        "Variance ratio of each Principal Component"
      ]
    },
    {
      "cell_type": "code",
      "metadata": {
        "id": "rJNG1cRHt9h-",
        "colab_type": "code",
        "outputId": "c0349cfe-1257-4733-cf4a-532848fcf513",
        "colab": {
          "base_uri": "https://localhost:8080/",
          "height": 283
        }
      },
      "source": [
        "plt.figure(figsize=(4,4))\n",
        "plt.bar([1,2,3,4],pca.explained_variance_ratio_)\n",
        "plt.show()\n",
        "print(pca.explained_variance_ratio_)"
      ],
      "execution_count": 9,
      "outputs": [
        {
          "output_type": "display_data",
          "data": {
            "text/plain": [
              "<Figure size 288x288 with 1 Axes>"
            ],
            "image/png": "[encoded data removed]"
          },
          "metadata": {
            "tags": [],
            "needs_background": "light"
          }
        },
        {
          "output_type": "stream",
          "text": [
            "[0.72962445 0.22850762 0.03668922 0.00517871]\n"
          ],
          "name": "stdout"
        }
      ]
    },
    {
      "cell_type": "markdown",
      "metadata": {
        "id": "sdzE3ryOJrH8",
        "colab_type": "text"
      },
      "source": [
        "                     SCREE PLOT "
      ]
    },
    {
      "cell_type": "markdown",
      "metadata": {
        "id": "9mq7QUgjsza0",
        "colab_type": "text"
      },
      "source": [
        "**b) PCA FOR FEATURE SELECTION**"
      ]
    },
    {
      "cell_type": "markdown",
      "metadata": {
        "id": "pl2CCP7es96_",
        "colab_type": "text"
      },
      "source": [
        "Loading MNIST data"
      ]
    },
    {
      "cell_type": "code",
      "metadata": {
        "id": "e6SArrr61N2g",
        "colab_type": "code",
        "colab": {}
      },
      "source": [
        "mnist = datasets.fetch_openml('mnist_784')"
      ],
      "execution_count": 0,
      "outputs": []
    },
    {
      "cell_type": "markdown",
      "metadata": {
        "id": "jUCEcgPk6gfh",
        "colab_type": "text"
      },
      "source": [
        "Splitting the training and testing data & Vizualising samples of the dataset."
      ]
    },
    {
      "cell_type": "code",
      "metadata": {
        "id": "tZRrfxcm3VrP",
        "colab_type": "code",
        "outputId": "d941de29-ae2d-44a1-9c61-890b3d0f73dd",
        "colab": {
          "base_uri": "https://localhost:8080/",
          "height": 207
        }
      },
      "source": [
        "train = mnist.data[:60000,:]\n",
        "test =  mnist.data[60000:,:]\n",
        "y_train = mnist.target[:60000]\n",
        "y_test =  mnist.target[60000:]\n",
        "\n",
        "#converting labels to tensors\n",
        "y_train=np.array(y_train,dtype=np.int64)\n",
        "y_test=np.array(y_test,dtype=np.int64)\n",
        "y_train = torch.from_numpy(y_train).to(device)\n",
        "y_test = torch.from_numpy(y_test).to(device)\n",
        "train_temp = np.reshape(train,(60000,28,28))\n",
        "fig = plt.figure()\n",
        "for i in range(6):\n",
        "  plt.subplot(3,3,i+1)\n",
        "  plt.tight_layout()\n",
        "  plt.imshow(train_temp[i], cmap='gray', interpolation='none')\n",
        "  plt.title(\"Digit: {}\".format(y_train[i]))\n",
        "  plt.xticks([])\n",
        "  plt.yticks([])"
      ],
      "execution_count": 11,
      "outputs": [
        {
          "output_type": "display_data",
          "data": {
            "text/plain": [
              "<Figure size 432x288 with 6 Axes>"
            ],
            "image/png": "[encoded data removed]"
          },
          "metadata": {
            "tags": []
          }
        }
      ]
    },
    {
      "cell_type": "markdown",
      "metadata": {
        "id": "oiygfN4ItAJH",
        "colab_type": "text"
      },
      "source": [
        "Applying PCA and finding features"
      ]
    },
    {
      "cell_type": "markdown",
      "metadata": {
        "id": "BROmA4sQtEl4",
        "colab_type": "text"
      },
      "source": [
        "Simple Neural Network to test different variances of PCA"
      ]
    },
    {
      "cell_type": "code",
      "metadata": {
        "id": "l_28D2kcW1VR",
        "colab_type": "code",
        "colab": {}
      },
      "source": [
        "def Model(pca_train,pca_test,y_train,y_test,epochs=2,lr=0.001):\n",
        "  loss_list=[]\n",
        "  class net(nn.Module):  \n",
        "    def __init__(self):\n",
        "      super(net,self).__init__()\n",
        "      self.fc1 = nn.Linear(pca_train.shape[1],84)\n",
        "      self.fc2 = nn.Linear(84,10)\n",
        "    def forward(self,x):\n",
        "      x=Func.relu(self.fc1(x))\n",
        "      x=Func.log_softmax(self.fc2(x),dim=1)\n",
        "      return x\n",
        "  Net = net()\n",
        "  #Net.to(device)\n",
        "  criterion = nn.CrossEntropyLoss()\n",
        "  optimizer = optim.SGD(Net.parameters(), lr = lr,momentum = 0.9)\n",
        "\n",
        "  for e in range(epochs):\n",
        "    optimizer.zero_grad()\n",
        "    output = Net(pca_train)\n",
        "    loss = criterion(output,y_train)\n",
        "    loss.backward(retain_graph=True)\n",
        "    optimizer.step()\n",
        "    loss_list.append(loss.item())\n",
        "\n",
        "  #Evaluating on training data\n",
        "  correct = 0\n",
        "  total = 0\n",
        "  with torch.no_grad():\n",
        "      outputs = Net(pca_train)\n",
        "      _, predicted = torch.max(outputs.data, 1)\n",
        "      total += y_train.shape[0]\n",
        "      correct += (predicted == y_train).sum().item()\n",
        "  train_acc = correct / total\n",
        "  #Evaluating on test data\n",
        "  correct = 0\n",
        "  total = 0\n",
        "  with torch.no_grad():\n",
        "      outputs = Net(pca_test)\n",
        "      _, predicted = torch.max(outputs.data, 1)\n",
        "      total += y_test.shape[0]\n",
        "      correct += (predicted == y_test).sum().item()\n",
        "  test_acc = correct / total\n",
        "\n",
        "  return loss_list, train_acc, test_acc"
      ],
      "execution_count": 0,
      "outputs": []
    },
    {
      "cell_type": "markdown",
      "metadata": {
        "id": "_pTmmSIJegqv",
        "colab_type": "text"
      },
      "source": [
        "1. Standard Scaling the data, Feature selection using PCA, and classifying images from PCA features.<br>\n",
        "2. Using different variances to select features and observing the accuracy of classification."
      ]
    },
    {
      "cell_type": "markdown",
      "metadata": {
        "id": "dJEk0x7Q0MIj",
        "colab_type": "text"
      },
      "source": [
        "There is a list PCAs, which will maintain all the PCA objects.\n",
        "the values in list will be accordingly as follows: <br><b> PCAs= [ variance, PCA_object, PCA_train(after transformation), PCA_test(after_transformation), PCA_train(after reconstruction), PCA_test(after reconstruction) ]<b>\n"
      ]
    },
    {
      "cell_type": "code",
      "metadata": {
        "id": "UCKI4rZs3_18",
        "colab_type": "code",
        "outputId": "c4003d5f-6849-4dc6-e950-ee192ad5a868",
        "colab": {
          "base_uri": "https://localhost:8080/",
          "height": 90
        }
      },
      "source": [
        "PCAs=[]\n",
        "#standard scaling\n",
        "scalar = StandardScaler()\n",
        "scalar.fit(train)\n",
        "train=scalar.transform(train)\n",
        "test=scalar.transform(test)\n",
        "for i in [.50,.75,.90,.95]:\n",
        "  #pca\n",
        "  pca_mnist=decomposition.PCA(i)\n",
        "  pca_mnist.fit(train)\n",
        "  pca_train = pca_mnist.transform(train)\n",
        "  pca_test = pca_mnist.transform(test)\n",
        "  PCAs.append([i,pca_mnist,pca_train,pca_test,pca_train.shape[1]])\n",
        "  #changing dtype\n",
        "  pca_train=np.array(pca_train,dtype=\"float32\")\n",
        "  pca_test=np.array(pca_test,dtype=\"float32\")\n",
        "  \n",
        "  #converting to tensors \n",
        "  pca_train=torch.from_numpy(pca_train)\n",
        "  pca_test =torch.from_numpy(pca_test)\n",
        "  y_train=y_train.to('cpu')\n",
        "  y_test=y_test.to('cpu')\n",
        "  losses,train_acc,test_acc = Model(pca_train,pca_test,y_train,y_test,200) #train_data,test_data,train_labels,test_labels,epochs\n",
        "  print(\"Variance:\",i,\" || training acc:\",train_acc,\" || testing acc:\",test_acc)"
      ],
      "execution_count": 56,
      "outputs": [
        {
          "output_type": "stream",
          "text": [
            "Variance: 0.5  || training acc: 0.7914  || testing acc: 0.8002\n",
            "Variance: 0.75  || training acc: 0.7794333333333333  || testing acc: 0.792\n",
            "Variance: 0.9  || training acc: 0.7792166666666667  || testing acc: 0.7877\n",
            "Variance: 0.95  || training acc: 0.7633666666666666  || testing acc: 0.7742\n"
          ],
          "name": "stdout"
        }
      ]
    },
    {
      "cell_type": "markdown",
      "metadata": {
        "id": "JMvUQoJJm9Dk",
        "colab_type": "text"
      },
      "source": [
        "Reconstructing the image "
      ]
    },
    {
      "cell_type": "code",
      "metadata": {
        "id": "rMchtIrj3_yS",
        "colab_type": "code",
        "colab": {}
      },
      "source": [
        "temp_PCAs=[]\n",
        "for i in PCAs:\n",
        "  pca_train=i[1].inverse_transform(i[2])\n",
        "  pca_test=i[1].inverse_transform(i[3])\n",
        "  temp_PCAs.append([i[0],i[1],i[2],i[3],i[4],pca_train,pca_test])\n",
        "PCAs=temp_PCAs"
      ],
      "execution_count": 0,
      "outputs": []
    },
    {
      "cell_type": "markdown",
      "metadata": {
        "id": "qNMKMoNJbeKb",
        "colab_type": "text"
      },
      "source": [
        "Vizualizing digits after reconstruction"
      ]
    },
    {
      "cell_type": "code",
      "metadata": {
        "id": "AX8exGys3VrB",
        "colab_type": "code",
        "outputId": "e42824a1-d56d-4518-bad5-2b3eb3a0c8e9",
        "colab": {
          "base_uri": "https://localhost:8080/",
          "height": 405
        }
      },
      "source": [
        "for i in range(4):\n",
        "  digits=PCAs[i][5]\n",
        "  digits=digits.reshape((60000,28,28))\n",
        "  fig = plt.figure()\n",
        "  for i in range(3):\n",
        "    plt.subplot(3,3,i+1)\n",
        "    plt.imshow(digits[i], cmap='gray', interpolation='none')\n",
        "    plt.title(\"Digit: {}\".format(y_train[i]))\n",
        "    plt.xticks([])\n",
        "    plt.yticks([])"
      ],
      "execution_count": 58,
      "outputs": [
        {
          "output_type": "display_data",
          "data": {
            "text/plain": [
              "<Figure size 432x288 with 3 Axes>"
            ],
            "image/png": "[encoded data removed]"
          },
          "metadata": {
            "tags": []
          }
        },
        {
          "output_type": "display_data",
          "data": {
            "text/plain": [
              "<Figure size 432x288 with 3 Axes>"
            ],
            "image/png": "[encoded data removed]"
          },
          "metadata": {
            "tags": []
          }
        },
        {
          "output_type": "display_data",
          "data": {
            "text/plain": [
              "<Figure size 432x288 with 3 Axes>"
            ],
            "image/png": "[encoded data removed]"
          },
          "metadata": {
            "tags": []
          }
        },
        {
          "output_type": "display_data",
          "data": {
            "text/plain": [
              "<Figure size 432x288 with 3 Axes>"
            ],
            "image/png": "[encoded data removed]"
          },
          "metadata": {
            "tags": []
          }
        }
      ]
    },
    {
      "cell_type": "markdown",
      "metadata": {
        "id": "Jw2NNE1Kdy7Y",
        "colab_type": "text"
      },
      "source": [
        "Above is the Vizualization of images of different variances. <br> \n",
        "1st row- 0.50<br>\n",
        "2nd row- 0.75<br>\n",
        "3rd row- 0.90<br>\n",
        "4th row- 0.95"
      ]
    },
    {
      "cell_type": "markdown",
      "metadata": {
        "id": "Y2Gnr0hVsrui",
        "colab_type": "text"
      },
      "source": [
        "Image Classification using  Reconstructed image data"
      ]
    },
    {
      "cell_type": "code",
      "metadata": {
        "id": "xkuNRwQevh1g",
        "colab_type": "code",
        "colab": {}
      },
      "source": [
        "def cnn_Model(pca_train,pca_test,y_train,y_test,epochs=2,batch_size=100,filter_size=3,pool_size=2,lr=0.001,dev='cpu'):\n",
        "  ip_channel=1\n",
        "  op_channel= 6\n",
        "  conv_strides=1\n",
        "  pool_strides=1\n",
        "  loss_list=[]\n",
        "\n",
        "  #formula to measure the output from convolution and pooling\n",
        "  op_conv1 = (( pca_train.shape[2] - filter_size) / conv_strides) +1\n",
        "  max_pool1 = (( op_conv1 - pool_size)/pool_strides) + 1\n",
        "  \n",
        "  train_loader = torch.utils.data.DataLoader(pca_train, batch_size=batch_size, shuffle=False)\n",
        "  test_loader = torch.utils.data.DataLoader(pca_test, batch_size=batch_size, shuffle=False)\n",
        "  y_train_loader = torch.utils.data.DataLoader(y_train, batch_size=batch_size, shuffle=False)\n",
        "  y_test_loader = torch.utils.data.DataLoader(y_test, batch_size=batch_size, shuffle=False)\n",
        "\n",
        "  class net(nn.Module):  \n",
        "    def __init__(self):\n",
        "      super(net,self).__init__()      \n",
        "      if(str(dev)=='cuda'): \n",
        "        #print('running on cuda')\n",
        "        self.conv1 = nn.Conv2d(ip_channel,op_channel,filter_size).cuda()\n",
        "        self.pool = nn.MaxPool2d(pool_size,pool_strides).cuda()\n",
        "        self.fc1 = nn.Linear(int(op_channel*max_pool1*max_pool1),84).cuda()\n",
        "        self.fc2 = nn.Linear(84,10).cuda()\n",
        "      else:\n",
        "        #print('running on cpu')\n",
        "        self.conv1 = nn.Conv2d(ip_channel,op_channel,filter_size)\n",
        "        self.pool = nn.MaxPool2d(pool_size,pool_strides)\n",
        "        self.fc1 = nn.Linear(int(op_channel*max_pool1*max_pool1),84)\n",
        "        self.fc2 = nn.Linear(84,10)\n",
        "    def forward(self,x):\n",
        "      x = self.pool(Func.relu(self.conv1(x)))\n",
        "      x=x.view(-1,int(op_channel*max_pool1*max_pool1))\n",
        "      x=Func.relu(self.fc1(x))\n",
        "      x=Func.log_softmax(self.fc2(x),dim=1)\n",
        "      return x\n",
        "  Net = net()\n",
        "  if(dev=='cuda'):\n",
        "    #print('device set on cuda')\n",
        "    Net.to(device)  \n",
        "  criterion = nn.CrossEntropyLoss()\n",
        "  optimizer = optim.SGD(Net.parameters(), lr = lr,momentum = 0.9)\n",
        "\n",
        "  for e in range(epochs):\n",
        "    for inputs,labels in zip(train_loader,y_train_loader):\n",
        "      if(dev=='cuda'):\n",
        "            inputs = inputs.to(device)\n",
        "            labels = labels.to(device)\n",
        "      optimizer.zero_grad()\n",
        "      outputs = Net(inputs)\n",
        "      loss = criterion(outputs,labels)\n",
        "      loss.backward(retain_graph=True)\n",
        "      optimizer.step()\n",
        "      loss_list.append(loss.item())\n",
        "  \n",
        "  correct = 0\n",
        "  total = 0\n",
        "  with torch.no_grad():\n",
        "      for inputs,labels in zip(train_loader,y_train_loader):\n",
        "        if(dev=='cuda'):\n",
        "            inputs = inputs.to(device)\n",
        "            labels = labels.to(device)\n",
        "        outputs = Net(inputs)\n",
        "        _, predicted = torch.max(outputs.data, 1)\n",
        "        total += labels.size(0)\n",
        "        correct += (predicted == labels).sum().item()\n",
        "  train_acc = correct / total\n",
        "\n",
        "  correct = 0\n",
        "  total = 0\n",
        "  with torch.no_grad():    \n",
        "      for inputs,labels in zip(train_loader,y_train_loader):  \n",
        "        if(dev=='cuda'):\n",
        "            inputs = inputs.to(device)\n",
        "            labels = labels.to(device)\n",
        "        outputs = Net(inputs)\n",
        "        _, predicted = torch.max(outputs.data, 1)\n",
        "        total += labels.size(0)\n",
        "        correct += (predicted == labels).sum().item()\n",
        "  test_acc = correct / total\n",
        "  del Net,outputs,inputs\n",
        "  return losses, train_acc, test_acc\n"
      ],
      "execution_count": 0,
      "outputs": []
    },
    {
      "cell_type": "markdown",
      "metadata": {
        "id": "IA5hvRPL2IAa",
        "colab_type": "text"
      },
      "source": [
        "Classification using <b>CNN</b> using different Variances, and observing its accuracies."
      ]
    },
    {
      "cell_type": "code",
      "metadata": {
        "id": "gFlvjzrvl6pz",
        "colab_type": "code",
        "outputId": "08d28e56-c836-439e-cdd3-2a5f85eb723c",
        "colab": {
          "base_uri": "https://localhost:8080/",
          "height": 90
        }
      },
      "source": [
        "for i in PCAs: \n",
        "  pca_train=np.array(i[5],dtype=\"float32\")\n",
        "  pca_test=np.array(i[6],dtype=\"float32\")\n",
        "  #converting to tensors \n",
        "  pca_train=torch.from_numpy(pca_train)\n",
        "  pca_test =torch.from_numpy(pca_test)\n",
        "  pca_train=pca_train.reshape(pca_train.shape[0],1,28,28)\n",
        "  pca_test=pca_test.reshape(pca_test.shape[0],1,28,28)\n",
        "  losses,train_acc,test_acc = cnn_Model(pca_train,pca_test,y_train,y_test,5,100,4,2,0.001,'cpu') #epochs,batch_size,filter_size,pool_size,gpu or cpu\n",
        "  print(\"Variance:\",i[0],\" || training acc:\",train_acc,\" || testing acc:\",test_acc)"
      ],
      "execution_count": 64,
      "outputs": [
        {
          "output_type": "stream",
          "text": [
            "Variance: 0.5  || training acc: 0.9576166666666667  || testing acc: 0.9576166666666667\n",
            "Variance: 0.75  || training acc: 0.9714166666666667  || testing acc: 0.9714166666666667\n",
            "Variance: 0.9  || training acc: 0.9702333333333333  || testing acc: 0.9702333333333333\n",
            "Variance: 0.95  || training acc: 0.97485  || testing acc: 0.97485\n"
          ],
          "name": "stdout"
        }
      ]
    },
    {
      "cell_type": "markdown",
      "metadata": {
        "id": "Jw3BiHBi1Ku_",
        "colab_type": "text"
      },
      "source": [
        "While Applying PCA over the MNIST data with different variances, the accuracy is varied. difference between variance of .55 and .95 is very high. \n",
        "\n",
        "When the image was Reconstructed using PCA, and classification is done using CNN, there is very minor difference between accuracy of variance .55 PCA data and .95 PCA data.\n",
        "\n",
        "Hence It can be implied that .55 variance has sufficiant information to classify the data\n",
        "and Accuracy of reconstruction is better than using reduction of features"
      ]
    },
    {
      "cell_type": "code",
      "metadata": {
        "id": "0hSo7za0UniC",
        "colab_type": "code",
        "colab": {}
      },
      "source": [
        "del pca_train\n",
        "del pca_test"
      ],
      "execution_count": 0,
      "outputs": []
    },
    {
      "cell_type": "markdown",
      "metadata": {
        "id": "KA7Ux4IPyWUQ",
        "colab_type": "text"
      },
      "source": [
        "c) <b>AutoEncoder implementation</b>"
      ]
    },
    {
      "cell_type": "code",
      "metadata": {
        "id": "T7kn57-dnYhT",
        "colab_type": "code",
        "colab": {}
      },
      "source": [
        "def autoencoder(pca_train,pca_test,y_train,y_test,batch_size=100,hidden_node=200,epochs=2,linear=1):\n",
        "  loss_item = []\n",
        "  train_loader = torch.utils.data.DataLoader(pca_train,batch_size=batch_size,shuffle=False)\n",
        "  test_loader = torch.utils.data.DataLoader(pca_test,batch_size=batch_size,shuffle=False)\n",
        "  y_train_loader = torch.utils.data.DataLoader(y_train,batch_size=batch_size,shuffle=False)\n",
        "  y_test_loader = torch.utils.data.DataLoader(y_test,batch_size=batch_size,shuffle=False)\n",
        "  class encoder_net(nn.Module):\n",
        "    def __init__(self):\n",
        "      super(encoder_net,self).__init__()\n",
        "      self.fc1 = nn.Linear(784,500)\n",
        "      self.fc2 = nn.Linear(500,hidden_node)\n",
        "      self.fc3 = nn.Linear(hidden_node,500)\n",
        "      self.fc4 = nn.Linear(500,784)\n",
        "    def forward(self,x):\n",
        "      x = Func.relu(self.fc1(x))\n",
        "      x = Func.relu(self.fc2(x))\n",
        "      x = Func.relu(self.fc3(x))\n",
        "      x = torch.sigmoid(self.fc4(x))\n",
        "      return x\n",
        "    def encoder(self,x):\n",
        "       if(linear==0):\n",
        "          x = Func.relu(self.fc1(x))\n",
        "          x = Func.relu(self.fc2(x))\n",
        "       else:\n",
        "          x=self.fc1(x)\n",
        "          x=self.fc2(x)\n",
        "       return x\n",
        "    def decoder(self,x):\n",
        "      if(linear==0):\n",
        "          x = Func.relu(self.fc3(x)) \n",
        "          x = torch.sigmoid(self.fc4(x))\n",
        "      else:\n",
        "          x=self.fc3(x)\n",
        "          x=self.fc4(x)\n",
        "      return x\n",
        "\n",
        "  Net = encoder_net()\n",
        "  criterion = nn.MSELoss()\n",
        "  optimizer = optim.RMSprop(Net.parameters(), lr=0.001)\n",
        "  for i in range(epochs):\n",
        "    for inputs,labels in zip(train_loader,y_train_loader):\n",
        "      optimizer.zero_grad()\n",
        "      outputs=Net(inputs)\n",
        "      loss = criterion(outputs,inputs)\n",
        "      loss.backward()\n",
        "      optimizer.step()\n",
        "      loss_item.append(loss.item())\n",
        "\n",
        "  encode_train=Net.encoder(pca_train)\n",
        "  decode_train=Net.decoder(encode_train)\n",
        "  encode_test=Net.encoder(pca_test)\n",
        "  decode_test=Net.decoder(encode_test)\n",
        "\n",
        "  return loss_item,encode_train,encode_test,decode_train,decode_test"
      ],
      "execution_count": 0,
      "outputs": []
    },
    {
      "cell_type": "markdown",
      "metadata": {
        "id": "5YbBpYuN8zhu",
        "colab_type": "text"
      },
      "source": [
        "Runnning for different variances as bottleneck nodes."
      ]
    },
    {
      "cell_type": "code",
      "metadata": {
        "id": "qmXpfPsANiuy",
        "colab_type": "code",
        "outputId": "cc151b53-f424-4e18-b334-fc8e18d203be",
        "colab": {
          "base_uri": "https://localhost:8080/",
          "height": 321
        }
      },
      "source": [
        "encoder_list=[]\n",
        "encoder_list_l=[]\n",
        "scalar = StandardScaler()\n",
        "scalar.fit(train)\n",
        "train=scalar.transform(train)\n",
        "test=scalar.transform(test)\n",
        "for i in PCAs:\n",
        "  enc_train=np.array(train,dtype=\"float32\")\n",
        "  enc_test=np.array(test,dtype=\"float32\")\n",
        "  \n",
        "  #converting to tensors \n",
        "  enc_train=torch.from_numpy(enc_train)\n",
        "  enc_test =torch.from_numpy(enc_test)\n",
        "\n",
        "  #encoder_decoder_network\n",
        "  loss_item_l,encode_train_l,encode_test_l,decode_train_l,decode_test_l=autoencoder(enc_train,enc_test,y_train,y_test,100,i[4],1,1)  #train,test,train_label,test_label,batch_size,hid_nodes,epochs,linear\n",
        "  loss_item,encode_train,encode_test,decode_train,decode_test=autoencoder(enc_train,enc_test,y_train,y_test,100,i[4],1,0)  #train,test,train_label,test_label,batch_size,hid_nodes,epochs,linear\n",
        "  \n",
        "  #plotting losses for linear and non-linear functions\n",
        "  plt.plot(loss_item)\n",
        "  plt.plot(loss_item_l)\n",
        "\n",
        "  #saving both data to list to use further\n",
        "  encoder_list_l.append([i[0],encode_train_l,encode_test_l,decode_train_l,decode_test_l])\n",
        "  encoder_list.append([i[0],encode_train,encode_test,decode_train,decode_test])"
      ],
      "execution_count": 109,
      "outputs": [
        {
          "output_type": "stream",
          "text": [
            "C:\\Users\\Harsh\\Anaconda3\\lib\\site-packages\\torch\\nn\\functional.py:1351: UserWarning: nn.functional.sigmoid is deprecated. Use torch.sigmoid instead.\n",
            "  warnings.warn(\"nn.functional.sigmoid is deprecated. Use torch.sigmoid instead.\")\n"
          ],
          "name": "stderr"
        },
        {
          "output_type": "display_data",
          "data": {
            "text/plain": [
              "<Figure size 432x288 with 1 Axes>"
            ],
            "image/png": "[encoded data removed]"
          },
          "metadata": {
            "tags": [],
            "needs_background": "light"
          }
        }
      ]
    },
    {
      "cell_type": "markdown",
      "metadata": {
        "id": "YUs3IbPien_C",
        "colab_type": "text"
      },
      "source": [
        "Executing encoder on feedforward network"
      ]
    },
    {
      "cell_type": "code",
      "metadata": {
        "id": "PFwIU4gVePq0",
        "colab_type": "code",
        "outputId": "931c423d-d821-4d99-eaab-4e7365782b3e",
        "colab": {
          "base_uri": "https://localhost:8080/",
          "height": 199
        }
      },
      "source": [
        "print('Feedforward Net using Non-Linear function:')\n",
        "for i in encoder_list:\n",
        "  #encoded data on simple feedforward network \n",
        "  losses,feed_train_acc,feed_test_acc = Model(i[1],i[2],y_train,y_test,20,lr=0.01) #train_data,test_data,train_labels,test_labels,epochs\n",
        "  print('Variance: ',i[0],', train_acc:',feed_train_acc,', test_acc:',feed_test_acc)\n",
        "\n",
        "print('Feedforward Net using Linear function:')\n",
        "for i in encoder_list_l:\n",
        "  #encoded data on simple feedforward network \n",
        "  losses,feed_train_acc,feed_test_acc = Model(i[1],i[2],y_train,y_test,20,lr=0.01) #train_data,test_data,train_labels,test_labels,epochs\n",
        "  print('Variance: ',i[0],', train_acc:',feed_train_acc,', test_acc:',feed_test_acc)"
      ],
      "execution_count": 110,
      "outputs": [
        {
          "output_type": "stream",
          "text": [
            "Feedforward Net using Non-Linear function:\n",
            "Variance:  0.5 , train_acc: 0.78385 , test_acc: 0.7907\n",
            "Variance:  0.75 , train_acc: 0.8434166666666667 , test_acc: 0.8481\n",
            "Variance:  0.9 , train_acc: 0.8697333333333334 , test_acc: 0.873\n",
            "Variance:  0.95 , train_acc: 0.8647166666666667 , test_acc: 0.8708\n",
            "Feedforward Net using Linear function:\n",
            "Variance:  0.5 , train_acc: 0.8635833333333334 , test_acc: 0.8655\n",
            "Variance:  0.75 , train_acc: 0.8831333333333333 , test_acc: 0.8855\n",
            "Variance:  0.9 , train_acc: 0.8878 , test_acc: 0.8876\n",
            "Variance:  0.95 , train_acc: 0.8902166666666667 , test_acc: 0.8971\n"
          ],
          "name": "stdout"
        }
      ]
    },
    {
      "cell_type": "markdown",
      "metadata": {
        "id": "zQiEibHF34iv",
        "colab_type": "text"
      },
      "source": [
        "Visualization of decoded images from autoencoder network"
      ]
    },
    {
      "cell_type": "code",
      "metadata": {
        "id": "ho9R4oSklGCA",
        "colab_type": "code",
        "outputId": "a93bfbf4-21a4-4c25-84b9-cf43812b397e",
        "colab": {
          "base_uri": "https://localhost:8080/",
          "height": 405
        }
      },
      "source": [
        "for i in encoder_list:\n",
        "  digits=i[4]\n",
        "  digits=digits.detach().numpy()\n",
        "  digits=digits.reshape((10000,28,28))\n",
        "  fig = plt.figure()\n",
        "  for i in range(3):\n",
        "    plt.subplot(3,3,i+1)\n",
        "    plt.imshow(digits[i], cmap='gray', interpolation='none')\n",
        "    plt.title(\"Digit: {}\".format(y_test[i]))\n",
        "    plt.xticks([])\n",
        "    plt.yticks([])"
      ],
      "execution_count": 75,
      "outputs": [
        {
          "output_type": "display_data",
          "data": {
            "text/plain": [
              "<Figure size 432x288 with 3 Axes>"
            ],
            "image/png": "[encoded data removed]"
          },
          "metadata": {
            "tags": []
          }
        },
        {
          "output_type": "display_data",
          "data": {
            "text/plain": [
              "<Figure size 432x288 with 3 Axes>"
            ],
            "image/png": "[encoded data removed]"
          },
          "metadata": {
            "tags": []
          }
        },
        {
          "output_type": "display_data",
          "data": {
            "text/plain": [
              "<Figure size 432x288 with 3 Axes>"
            ],
            "image/png": "[encoded data removed]"
          },
          "metadata": {
            "tags": []
          }
        },
        {
          "output_type": "display_data",
          "data": {
            "text/plain": [
              "<Figure size 432x288 with 3 Axes>"
            ],
            "image/png": "[encoded data removed]"
          },
          "metadata": {
            "tags": []
          }
        }
      ]
    },
    {
      "cell_type": "markdown",
      "metadata": {
        "id": "Lf7tcKt-qW2-",
        "colab_type": "text"
      },
      "source": [
        "Above is the Vizualization of Reconstructed images using autoencoder. <br> Variances are accordingly as follows: <br>\n",
        "1st row- 0.50<br>\n",
        "2nd row- 0.75<br>\n",
        "3rd row- 0.90<br>\n",
        "4th row- 0.95"
      ]
    },
    {
      "cell_type": "markdown",
      "metadata": {
        "id": "bowHKj2A1rmc",
        "colab_type": "text"
      },
      "source": [
        "Decoded data from encoder network, is passed to CNN network to classify images."
      ]
    },
    {
      "cell_type": "markdown",
      "metadata": {
        "id": "ay-nNQaw4MVN",
        "colab_type": "text"
      },
      "source": [
        "1. Network using Non-Linear Functions"
      ]
    },
    {
      "cell_type": "code",
      "metadata": {
        "id": "mE4YxB8AQJE3",
        "colab_type": "code",
        "outputId": "bc42c760-6609-476a-a740-da9e6611e178",
        "colab": {
          "base_uri": "https://localhost:8080/",
          "height": 108
        }
      },
      "source": [
        "print('CNN Net on Non-Linear functions:')\n",
        "for i in encoder_list:\n",
        "  #data manipulated for standard scaling, and again converted to vector\n",
        "  decode_train_=i[3].reshape((60000,784))\n",
        "  decode_test_=i[4].reshape((10000,784))\n",
        "\n",
        "  decode_train_=decode_train_.detach().numpy()\n",
        "  decode_test_=decode_test_.detach().numpy()\n",
        "\n",
        "  scalar = StandardScaler()\n",
        "  scalar.fit(decode_train_)\n",
        "  decode_train_=scalar.transform(decode_train_)\n",
        "  decode_test_=scalar.transform(decode_test_)\n",
        "\n",
        "  decode_train=torch.from_numpy(decode_train_)\n",
        "  decode_test=torch.from_numpy(decode_test_)\n",
        "\n",
        "  # decode_train=decode_train+abs(torch.min(decode_train).item())\n",
        "  # decode_train = decode_train / torch.max(decode_train).item()\n",
        "  decode_train = decode_train.reshape((decode_train.shape[0],1,28,28))\n",
        "  decode_test = decode_test.reshape((decode_test.shape[0],1,28,28))\n",
        "\n",
        "  losses,cnn_train_acc,cnn_test_acc = cnn_Model(decode_train,decode_test,y_train,y_test,5,1000,4,2,0.01,'cuda') #epochs,batch_size,filter_size,pool_size\n",
        "  print('Variance: ',i[0],', train_acc:',cnn_train_acc,', test_acc:',cnn_test_acc)"
      ],
      "execution_count": 111,
      "outputs": [
        {
          "output_type": "stream",
          "text": [
            "CNN Net on Non-Linear functions:\n",
            "Variance:  0.5 , train_acc: 0.9394 , test_acc: 0.9394\n",
            "Variance:  0.75 , train_acc: 0.9463166666666667 , test_acc: 0.9463166666666667\n",
            "Variance:  0.9 , train_acc: 0.9466833333333333 , test_acc: 0.9466833333333333\n",
            "Variance:  0.95 , train_acc: 0.9380666666666667 , test_acc: 0.9380666666666667\n"
          ],
          "name": "stdout"
        }
      ]
    },
    {
      "cell_type": "markdown",
      "metadata": {
        "id": "ydsG82i04RTV",
        "colab_type": "text"
      },
      "source": [
        "2. Network using Linear Functions"
      ]
    },
    {
      "cell_type": "code",
      "metadata": {
        "id": "nyusj8-e0NVE",
        "colab_type": "code",
        "colab": {
          "base_uri": "https://localhost:8080/",
          "height": 108
        },
        "outputId": "856f4dbe-4528-4ddf-8d62-9b28d315114c"
      },
      "source": [
        "print('CNN Net on Linear functions:')\n",
        "for i in encoder_list_l:\n",
        "  #data manipulated for standard scaling, and again converted to vector\n",
        "  decode_train_=i[3].reshape((60000,784))\n",
        "  decode_test_=i[4].reshape((10000,784))\n",
        "\n",
        "  decode_train_=decode_train_.detach().numpy()\n",
        "  decode_test_=decode_test_.detach().numpy()\n",
        "\n",
        "  scalar = StandardScaler()\n",
        "  scalar.fit(decode_train_)\n",
        "  decode_train_=scalar.transform(decode_train_)\n",
        "  decode_test_=scalar.transform(decode_test_)\n",
        "\n",
        "  decode_train=torch.from_numpy(decode_train_)\n",
        "  decode_test=torch.from_numpy(decode_test_)\n",
        "\n",
        "  # decode_train=decode_train+abs(torch.min(decode_train).item())\n",
        "  # decode_train = decode_train / torch.max(decode_train).item()\n",
        "  decode_train = decode_train.reshape((decode_train.shape[0],1,28,28))\n",
        "  decode_test = decode_test.reshape((decode_test.shape[0],1,28,28))\n",
        "\n",
        "  losses,cnn_train_acc,cnn_test_acc = cnn_Model(decode_train,decode_test,y_train,y_test,5,1000,4,2,0.01,'cuda') #epochs,batch_size,filter_size,pool_size\n",
        "  print('Variance: ',i[0],', train_acc:',cnn_train_acc,', test_acc:',cnn_test_acc)"
      ],
      "execution_count": 112,
      "outputs": [
        {
          "output_type": "stream",
          "text": [
            "CNN Net on Linear functions:\n",
            "Variance:  0.5 , train_acc: 0.9494666666666667 , test_acc: 0.9494666666666667\n",
            "Variance:  0.75 , train_acc: 0.9475666666666667 , test_acc: 0.9475666666666667\n",
            "Variance:  0.9 , train_acc: 0.9434333333333333 , test_acc: 0.9434333333333333\n",
            "Variance:  0.95 , train_acc: 0.9450333333333333 , test_acc: 0.9450333333333333\n"
          ],
          "name": "stdout"
        }
      ]
    },
    {
      "cell_type": "code",
      "metadata": {
        "id": "hPgvzEQS4kWc",
        "colab_type": "code",
        "colab": {}
      },
      "source": [
        ""
      ],
      "execution_count": 0,
      "outputs": []
    }
  ]
}
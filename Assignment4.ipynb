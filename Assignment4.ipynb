{
  "nbformat": 4,
  "nbformat_minor": 0,
  "metadata": {
    "colab": {
      "name": "Assignment4.ipynb",
      "provenance": [],
      "machine_shape": "hm",
      "authorship_tag": "ABX9TyP14xEBy/xwan9Dw6eNdmpj",
      "include_colab_link": true
    },
    "kernelspec": {
      "name": "python3",
      "display_name": "Python 3"
    }
  },
  "cells": [
    {
      "cell_type": "markdown",
      "metadata": {
        "id": "view-in-github",
        "colab_type": "text"
      },
      "source": [
        "<a href=\"https://colab.research.google.com/github/Harshpatel44/ML-A4/blob/master/Assignment4.ipynb\" target=\"_parent\"><img src=\"https://colab.research.google.com/assets/colab-badge.svg\" alt=\"Open In Colab\"/></a>"
      ]
    },
    {
      "cell_type": "markdown",
      "metadata": {
        "id": "iTT1qBzipD6N",
        "colab_type": "text"
      },
      "source": [
        "`#author: Harsh Patel`"
      ]
    },
    {
      "cell_type": "code",
      "metadata": {
        "id": "GpQIt2L4SxAw",
        "colab_type": "code",
        "colab": {}
      },
      "source": [
        "import numpy as np\n",
        "import pandas as pd\n",
        "from sklearn import datasets\n",
        "from sklearn.preprocessing import StandardScaler\n",
        "from sklearn import decomposition\n",
        "from matplotlib import pyplot as plt\n",
        "from matplotlib.pyplot import figure\n",
        "import torch\n",
        "import torch.nn as nn\n",
        "import torch.optim as optim\n",
        "import torch.nn.functional as Func "
      ],
      "execution_count": 0,
      "outputs": []
    },
    {
      "cell_type": "code",
      "metadata": {
        "id": "YjA8YcxO4pRU",
        "colab_type": "code",
        "colab": {}
      },
      "source": [
        "iris = datasets.load_iris()"
      ],
      "execution_count": 0,
      "outputs": []
    },
    {
      "cell_type": "markdown",
      "metadata": {
        "id": "dCtUGdHnorlZ",
        "colab_type": "text"
      },
      "source": [
        "Displaying The IRIS Dataset"
      ]
    },
    {
      "cell_type": "code",
      "metadata": {
        "id": "g9Q5DKsNYQvl",
        "colab_type": "code",
        "outputId": "b729da85-6ced-46b4-9ecd-77bbbb53c661",
        "colab": {
          "base_uri": "https://localhost:8080/",
          "height": 255
        }
      },
      "source": [
        "# converting the dataset to a numpy array\n",
        "data_iris = np.array(iris.data)\n",
        "output = np.array(iris.target)\n",
        "print(pd.DataFrame(data=data_iris,columns=['Sepal Length','Sepal Width','Petal Length','Petal Width']))"
      ],
      "execution_count": 6,
      "outputs": [
        {
          "output_type": "stream",
          "text": [
            "     Sepal Length  Sepal Width  Petal Length  Petal Width\n",
            "0             5.1          3.5           1.4          0.2\n",
            "1             4.9          3.0           1.4          0.2\n",
            "2             4.7          3.2           1.3          0.2\n",
            "3             4.6          3.1           1.5          0.2\n",
            "4             5.0          3.6           1.4          0.2\n",
            "..            ...          ...           ...          ...\n",
            "145           6.7          3.0           5.2          2.3\n",
            "146           6.3          2.5           5.0          1.9\n",
            "147           6.5          3.0           5.2          2.0\n",
            "148           6.2          3.4           5.4          2.3\n",
            "149           5.9          3.0           5.1          1.8\n",
            "\n",
            "[150 rows x 4 columns]\n"
          ],
          "name": "stdout"
        }
      ]
    },
    {
      "cell_type": "markdown",
      "metadata": {
        "id": "hhy0ZDTtpiZh",
        "colab_type": "text"
      },
      "source": [
        "Standardising the data"
      ]
    },
    {
      "cell_type": "code",
      "metadata": {
        "id": "QYNACZZIpcN4",
        "colab_type": "code",
        "outputId": "f89881d3-8863-4e98-e2f5-0b55931d42f4",
        "colab": {
          "base_uri": "https://localhost:8080/",
          "height": 255
        }
      },
      "source": [
        "data_iris = StandardScaler().fit_transform(data_iris)\n",
        "print(pd.DataFrame(data=data_iris,columns=['Sepal Length','Sepal Width','Petal Length','Petal Width']))"
      ],
      "execution_count": 7,
      "outputs": [
        {
          "output_type": "stream",
          "text": [
            "     Sepal Length  Sepal Width  Petal Length  Petal Width\n",
            "0       -0.900681     1.019004     -1.340227    -1.315444\n",
            "1       -1.143017    -0.131979     -1.340227    -1.315444\n",
            "2       -1.385353     0.328414     -1.397064    -1.315444\n",
            "3       -1.506521     0.098217     -1.283389    -1.315444\n",
            "4       -1.021849     1.249201     -1.340227    -1.315444\n",
            "..            ...          ...           ...          ...\n",
            "145      1.038005    -0.131979      0.819596     1.448832\n",
            "146      0.553333    -1.282963      0.705921     0.922303\n",
            "147      0.795669    -0.131979      0.819596     1.053935\n",
            "148      0.432165     0.788808      0.933271     1.448832\n",
            "149      0.068662    -0.131979      0.762758     0.790671\n",
            "\n",
            "[150 rows x 4 columns]\n"
          ],
          "name": "stdout"
        }
      ]
    },
    {
      "cell_type": "markdown",
      "metadata": {
        "id": "WnRKtcFVopBl",
        "colab_type": "text"
      },
      "source": [
        "Using PCA to reduce features"
      ]
    },
    {
      "cell_type": "code",
      "metadata": {
        "id": "7Uo2D81fYeIy",
        "colab_type": "code",
        "outputId": "592f3204-69d5-4c10-c8d3-726a31fa5a13",
        "colab": {
          "base_uri": "https://localhost:8080/",
          "height": 255
        }
      },
      "source": [
        "pca = decomposition.PCA(n_components=4)\n",
        "pca_iris=pca.fit_transform(data_iris)\n",
        "print(pd.DataFrame(data=pca_iris,columns=['PC1','PC2','PC3','PC4']))"
      ],
      "execution_count": 8,
      "outputs": [
        {
          "output_type": "stream",
          "text": [
            "          PC1       PC2       PC3       PC4\n",
            "0   -2.264703  0.480027 -0.127706 -0.024168\n",
            "1   -2.080961 -0.674134 -0.234609 -0.103007\n",
            "2   -2.364229 -0.341908  0.044201 -0.028377\n",
            "3   -2.299384 -0.597395  0.091290  0.065956\n",
            "4   -2.389842  0.646835  0.015738  0.035923\n",
            "..        ...       ...       ...       ...\n",
            "145  1.870503  0.386966  0.256274 -0.389257\n",
            "146  1.564580 -0.896687 -0.026371 -0.220192\n",
            "147  1.521170  0.269069  0.180178 -0.119171\n",
            "148  1.372788  1.011254  0.933395 -0.026129\n",
            "149  0.960656 -0.024332  0.528249  0.163078\n",
            "\n",
            "[150 rows x 4 columns]\n"
          ],
          "name": "stdout"
        }
      ]
    },
    {
      "cell_type": "markdown",
      "metadata": {
        "id": "EgpRIRD5sKM6",
        "colab_type": "text"
      },
      "source": [
        "Visualizing for first two PCA"
      ]
    },
    {
      "cell_type": "code",
      "metadata": {
        "id": "z7UFvvoAmsaY",
        "colab_type": "code",
        "outputId": "21c27248-ac14-4a3d-9ff4-8fbcdcd2eb35",
        "colab": {
          "base_uri": "https://localhost:8080/",
          "height": 483
        }
      },
      "source": [
        "plt.figure(figsize=(8,8))\n",
        "plt.scatter(pca_iris[:,0],pca_iris[:,1],c=output)\n",
        "ax = plt.gca()\n",
        "ax.set_facecolor('xkcd:salmon')\n",
        "ax.set_facecolor((0, 0, 0))\n",
        "plt.show()"
      ],
      "execution_count": 9,
      "outputs": [
        {
          "output_type": "display_data",
          "data": {
            "image/png": "[encoded data removed]",
            "text/plain": [
              "<Figure size 576x576 with 1 Axes>"
            ]
          },
          "metadata": {
            "tags": []
          }
        }
      ]
    },
    {
      "cell_type": "code",
      "metadata": {
        "id": "Xv0ZI9nMp1Vm",
        "colab_type": "code",
        "outputId": "79c08d85-d24f-45b2-92cc-5f61c60f29e8",
        "colab": {
          "base_uri": "https://localhost:8080/",
          "height": 483
        }
      },
      "source": [
        "plt.figure(figsize=(8,8))\n",
        "plt.scatter(pca_iris[:,2],pca_iris[:,3],c=output)\n",
        "ax = plt.gca()\n",
        "ax.set_facecolor('xkcd:salmon')\n",
        "ax.set_facecolor((0, 0, 0))\n",
        "plt.show()"
      ],
      "execution_count": 10,
      "outputs": [
        {
          "output_type": "display_data",
          "data": {
            "image/png": "[encoded data removed]",
            "text/plain": [
              "<Figure size 576x576 with 1 Axes>"
            ]
          },
          "metadata": {
            "tags": []
          }
        }
      ]
    },
    {
      "cell_type": "code",
      "metadata": {
        "id": "rJNG1cRHt9h-",
        "colab_type": "code",
        "outputId": "198982f6-e3ca-43dd-e555-08d69f0da067",
        "colab": {
          "base_uri": "https://localhost:8080/",
          "height": 34
        }
      },
      "source": [
        "print(pca.explained_variance_ratio_)"
      ],
      "execution_count": 11,
      "outputs": [
        {
          "output_type": "stream",
          "text": [
            "[0.72962445 0.22850762 0.03668922 0.00517871]\n"
          ],
          "name": "stdout"
        }
      ]
    },
    {
      "cell_type": "markdown",
      "metadata": {
        "id": "9mq7QUgjsza0",
        "colab_type": "text"
      },
      "source": [
        "**b) PCA FOR FEATURE SELECTION**"
      ]
    },
    {
      "cell_type": "markdown",
      "metadata": {
        "id": "pl2CCP7es96_",
        "colab_type": "text"
      },
      "source": [
        "Loading MNIST data"
      ]
    },
    {
      "cell_type": "code",
      "metadata": {
        "id": "e6SArrr61N2g",
        "colab_type": "code",
        "colab": {}
      },
      "source": [
        "mnist = datasets.fetch_openml('mnist_784')"
      ],
      "execution_count": 0,
      "outputs": []
    },
    {
      "cell_type": "markdown",
      "metadata": {
        "id": "jUCEcgPk6gfh",
        "colab_type": "text"
      },
      "source": [
        "Splitting the training and testing data"
      ]
    },
    {
      "cell_type": "code",
      "metadata": {
        "id": "tZRrfxcm3VrP",
        "colab_type": "code",
        "colab": {}
      },
      "source": [
        "train = mnist.data[:60000,:]\n",
        "test =  mnist.data[60000:,:]\n",
        "y_train = mnist.target[:60000]\n",
        "y_test =  mnist.target[60000:]\n",
        "#y_train=np.resize(y_train,(y_train.shape[0],1))\n",
        "#y_test=np.resize(y_test,(y_test.shape[0],1))"
      ],
      "execution_count": 0,
      "outputs": []
    },
    {
      "cell_type": "markdown",
      "metadata": {
        "id": "oiygfN4ItAJH",
        "colab_type": "text"
      },
      "source": [
        "Applying PCA and finding features"
      ]
    },
    {
      "cell_type": "markdown",
      "metadata": {
        "id": "BROmA4sQtEl4",
        "colab_type": "text"
      },
      "source": [
        "Simple Neural Network to test different variances of PCA"
      ]
    },
    {
      "cell_type": "code",
      "metadata": {
        "id": "l_28D2kcW1VR",
        "colab_type": "code",
        "colab": {}
      },
      "source": [
        "def Model(pca_train,pca_test,y_train,y_test,epochs=2,batch_size=100,filter_size=3,pool_size=2):\n",
        "  loss_list=[]\n",
        "  class net(nn.Module):  \n",
        "    def __init__(self):\n",
        "      super(net,self).__init__()\n",
        "      self.fc1 = nn.Linear(pca_train.shape[1],50)\n",
        "      self.fc2 = nn.Linear(50,10)\n",
        "    def forward(self,x):\n",
        "      x=Func.relu(self.fc1(x))\n",
        "      x=Func.log_softmax(self.fc2(x),dim=1)\n",
        "      return x\n",
        "  Net = net()\n",
        "  criterion = nn.CrossEntropyLoss()\n",
        "  optimizer = optim.SGD(Net.parameters(), lr = 0.001,momentum = 0.9)\n",
        "\n",
        "  for e in range(epochs):\n",
        "    optimizer.zero_grad()\n",
        "    output = Net(pca_train)\n",
        "    loss = criterion(output,y_train)\n",
        "    loss.backward()\n",
        "    optimizer.step()\n",
        "    loss_list.append(loss.item())\n",
        "\n",
        "  #Evaluating on training data\n",
        "  correct = 0\n",
        "  total = 0\n",
        "  with torch.no_grad():\n",
        "      outputs = Net(pca_train)\n",
        "      _, predicted = torch.max(outputs.data, 1)\n",
        "      total += y_train.shape[0]\n",
        "      correct += (predicted == y_train).sum().item()\n",
        "  train_acc = correct / total\n",
        "  #Evaluating on test data\n",
        "  correct = 0\n",
        "  total = 0\n",
        "  with torch.no_grad():\n",
        "      outputs = Net(pca_test)\n",
        "      _, predicted = torch.max(outputs.data, 1)\n",
        "      total += y_test.shape[0]\n",
        "      correct += (predicted == y_test).sum().item()\n",
        "  test_acc = correct / total\n",
        "\n",
        "  return loss_list, train_acc, test_acc"
      ],
      "execution_count": 0,
      "outputs": []
    },
    {
      "cell_type": "markdown",
      "metadata": {
        "id": "_pTmmSIJegqv",
        "colab_type": "text"
      },
      "source": [
        "1. Standard Scaling the data, Feature selection using PCA, and classifying images from PCA features.<br>\n",
        "2. Using different variances to select features and observing the accuracy of classification."
      ]
    },
    {
      "cell_type": "code",
      "metadata": {
        "id": "UCKI4rZs3_18",
        "colab_type": "code",
        "colab": {
          "base_uri": "https://localhost:8080/",
          "height": 85
        },
        "outputId": "0e8c1b63-effb-4be5-cf46-e8777cc2a657"
      },
      "source": [
        "for i in [.50,.75,.90,.95]:\n",
        "  #scaling\n",
        "  scalar = StandardScaler()\n",
        "  scalar.fit(train)\n",
        "  train=scalar.transform(train)\n",
        "  test=scalar.transform(test)\n",
        "  #pca\n",
        "  pca_mnist=decomposition.PCA(i)\n",
        "  pca_mnist.fit(train)\n",
        "  pca_train = pca_mnist.transform(train)\n",
        "  pca_test = pca_mnist.transform(test)\n",
        "  #changing dtype\n",
        "  pca_train=np.array(pca_train,dtype=\"float32\")\n",
        "  pca_test=np.array(pca_test,dtype=\"float32\")\n",
        "  y_train=np.array(y_train,dtype=\"long\")\n",
        "  y_test=np.array(y_test,dtype=\"long\")\n",
        "  #converting to tensors \n",
        "  pca_train=torch.from_numpy(pca_train)\n",
        "  pca_test =torch.from_numpy(pca_test)\n",
        "  y_train = torch.from_numpy(y_train)\n",
        "  y_test = torch.from_numpy(y_test)\n",
        "  losses,train_acc,test_acc = Model(pca_train,pca_test,y_train,y_test,200,100,3,2) #epochs,batch_size,filter_size,pool_size\n",
        "  print(\"Variance:\",i,\" || training acc:\",train_acc,\" || testing acc:\",test_acc)"
      ],
      "execution_count": 6,
      "outputs": [
        {
          "output_type": "stream",
          "text": [
            "Variance: 0.5  || training acc: 0.7712666666666667  || testing acc: 0.7786\n",
            "Variance: 0.75  || training acc: 0.7473833333333333  || testing acc: 0.7564\n",
            "Variance: 0.9  || training acc: 0.7712166666666667  || testing acc: 0.7845\n",
            "Variance: 0.95  || training acc: 0.7711666666666667  || testing acc: 0.7825\n"
          ],
          "name": "stdout"
        }
      ]
    },
    {
      "cell_type": "markdown",
      "metadata": {
        "id": "JMvUQoJJm9Dk",
        "colab_type": "text"
      },
      "source": [
        "Reconstructing the image "
      ]
    },
    {
      "cell_type": "code",
      "metadata": {
        "id": "rMchtIrj3_yS",
        "colab_type": "code",
        "outputId": "a18255ef-3829-4a6d-9756-6d3fb07b30ad",
        "colab": {
          "base_uri": "https://localhost:8080/",
          "height": 51
        }
      },
      "source": [
        "pca_train=pca_mnist.inverse_transform(pca_train)\n",
        "pca_test=pca_mnist.inverse_transform(pca_test)\n",
        "print(pca_train.shape)\n",
        "print(pca_test.shape)"
      ],
      "execution_count": 357,
      "outputs": [
        {
          "output_type": "stream",
          "text": [
            "torch.Size([10000, 331])\n",
            "(10000, 784)\n"
          ],
          "name": "stdout"
        }
      ]
    },
    {
      "cell_type": "code",
      "metadata": {
        "id": "xkuNRwQevh1g",
        "colab_type": "code",
        "colab": {}
      },
      "source": [
        "def cnn_Model(pca_train,pca_test,y_train,y_test,epochs=2,batch_size=100,filter_size=3,pool_size=2):\n",
        "  ip_channel=1\n",
        "  op_channel= 6\n",
        "  conv_strides=1\n",
        "  pool_strides=1\n",
        "  loss_list=[]\n",
        "\n",
        "  op_conv1 = (( pca_train.shape[2] - filter_size) / conv_strides) +1\n",
        "  max_pool1 = (( op_conv1 - pool_size)/pool_strides) + 1\n",
        "  # print(op_conv1)\n",
        "  # print(max_pool1)\n",
        "  # print(op_channel*max_pool1*max_pool1)\n",
        "  \n",
        "  \n",
        "  train_loader = torch.utils.data.DataLoader(pca_train, batch_size=batch_size, shuffle=False)\n",
        "  test_loader = torch.utils.data.DataLoader(pca_test, batch_size=batch_size, shuffle=False)\n",
        "  \n",
        "  class net(nn.Module):  \n",
        "    def __init__(self):\n",
        "      super(net,self).__init__()\n",
        "      self.conv1 = nn.Conv2d(ip_channel,op_channel,filter_size)\n",
        "      self.pool = nn.MaxPool2d(pool_size,pool_strides)\n",
        "      self.fc1 = nn.Linear(int(op_channel*max_pool1*max_pool1),50)\n",
        "      self.fc2 = nn.Linear(50,10)\n",
        "    def forward(self,x):\n",
        "      x = self.pool(Func.relu(self.conv1(x)))\n",
        "      print(x.shape)\n",
        "      x=x.view(-1,int(op_channel*max_pool1*max_pool1))\n",
        "      x=Func.relu(self.fc1(x))\n",
        "      x=Func.log_softmax(self.fc2(x),dim=1)\n",
        "      return x\n",
        "  Net = net()\n",
        "  criterion = nn.CrossEntropyLoss()\n",
        "  optimizer = optim.SGD(Net.parameters(), lr = 0.001,momentum = 0.9)\n",
        "\n",
        "  for e in range(epochs):\n",
        "    print('epochs:',e)\n",
        "    optimizer.zero_grad()\n",
        "    outputs = Net(pca_train)\n",
        "    loss = criterion(outputs,y_train)\n",
        "    loss.backward()\n",
        "    optimizer.step()\n",
        "    loss_list.append(loss.item())\n",
        "\n",
        "##### Evaluating the network on training data ################################\n",
        "  print(\"Evaluating on training data ...\")\n",
        "  correct = 0\n",
        "  total = 0\n",
        "  with torch.no_grad():\n",
        "      outputs = net(inputs)\n",
        "      _, predicted = torch.max(outputs.data, 1)\n",
        "      total += labels.size(0)\n",
        "      correct += (predicted == labels).sum().item()\n",
        "  train_acc = correct / total\n",
        "\n",
        "  ##### Evaluating the network on test data ####################################\n",
        "  print(\"Evaluating on test data ...\")\n",
        "  correct = 0\n",
        "  total = 0\n",
        "  with torch.no_grad():      \n",
        "      outputs = net(inputs)\n",
        "      _, predicted = torch.max(outputs.data, 1)\n",
        "      total += labels.size(0)\n",
        "      correct += (predicted == labels).sum().item()\n",
        "  test_acc = correct / total\n",
        "\n",
        "  return losses, train_acc, test_acc"
      ],
      "execution_count": 0,
      "outputs": []
    },
    {
      "cell_type": "code",
      "metadata": {
        "id": "gFlvjzrvl6pz",
        "colab_type": "code",
        "colab": {
          "base_uri": "https://localhost:8080/",
          "height": 34
        },
        "outputId": "5439f42c-1842-4c0c-9ba2-71e974403dbc"
      },
      "source": [
        "\n",
        "pca_train=np.array(pca_train,dtype=\"float32\")\n",
        "pca_test=np.array(pca_test,dtype=\"float32\")\n",
        "y_train=np.array(y_train,dtype=\"long\")\n",
        "y_test=np.array(y_test,dtype=\"long\")\n",
        "#converting to tensors \n",
        "pca_train=torch.from_numpy(pca_train)\n",
        "pca_test =torch.from_numpy(pca_test)\n",
        "y_train = torch.from_numpy(y_train)\n",
        "y_test = torch.from_numpy(y_test)\n",
        "pca_train=pca_train.reshape(pca_train.shape[0],1,28,28)\n",
        "pca_test=pca_test.reshape(pca_test.shape[0],1,28,28)\n",
        "losses,train_acc,test_acc = cnn_Model(pca_train,pca_test,y_train,y_test,200,100,4,2) #epochs,batch_size,filter_size,pool_size\n",
        "print(\"Variance:\",i,\" || training acc:\",train_acc,\" || testing acc:\",test_acc)"
      ],
      "execution_count": 0,
      "outputs": [
        {
          "output_type": "stream",
          "text": [
            "epochs: 0\n"
          ],
          "name": "stdout"
        }
      ]
    },
    {
      "cell_type": "code",
      "metadata": {
        "id": "T7kn57-dnYhT",
        "colab_type": "code",
        "colab": {}
      },
      "source": [
        ""
      ],
      "execution_count": 0,
      "outputs": []
    }
  ]
}